{
 "cells": [
  {
   "cell_type": "code",
   "execution_count": 35,
   "id": "10d79a1d",
   "metadata": {},
   "outputs": [
    {
     "name": "stdout",
     "output_type": "stream",
     "text": [
      "Requirement already satisfied: xgboost in c:\\users\\admin\\anaconda3\\lib\\site-packages (1.7.6)\n",
      "Requirement already satisfied: numpy in c:\\users\\admin\\anaconda3\\lib\\site-packages (from xgboost) (1.22.4)\n",
      "Requirement already satisfied: scipy in c:\\users\\admin\\anaconda3\\lib\\site-packages (from xgboost) (1.10.1)\n"
     ]
    }
   ],
   "source": [
    "!pip install xgboost"
   ]
  },
  {
   "cell_type": "code",
   "execution_count": 36,
   "id": "a54dff06",
   "metadata": {},
   "outputs": [],
   "source": [
    "import pandas as pd\n",
    "import numpy as np\n",
    "import seaborn as sns\n",
    "import matplotlib.pyplot as plt\n",
    "from sklearn.model_selection import train_test_split\n",
    "from sklearn.preprocessing import StandardScaler\n",
    "from sklearn.preprocessing import LabelEncoder\n",
    "from sklearn.decomposition import PCA\n",
    "from sklearn.metrics import accuracy_score,confusion_matrix\n",
    "from sklearn.linear_model import LogisticRegression,LinearRegression\n",
    "from sklearn.ensemble import RandomForestRegressor\n",
    "from xgboost import XGBRegressor\n",
    "from sklearn.tree import DecisionTreeRegressor\n",
    "from sklearn.metrics import mean_squared_error,mean_absolute_error\n",
    "from sklearn.model_selection import cross_val_score"
   ]
  },
  {
   "cell_type": "code",
   "execution_count": 37,
   "id": "f9d0a626",
   "metadata": {},
   "outputs": [
    {
     "data": {
      "text/html": [
       "<div>\n",
       "<style scoped>\n",
       "    .dataframe tbody tr th:only-of-type {\n",
       "        vertical-align: middle;\n",
       "    }\n",
       "\n",
       "    .dataframe tbody tr th {\n",
       "        vertical-align: top;\n",
       "    }\n",
       "\n",
       "    .dataframe thead th {\n",
       "        text-align: right;\n",
       "    }\n",
       "</style>\n",
       "<table border=\"1\" class=\"dataframe\">\n",
       "  <thead>\n",
       "    <tr style=\"text-align: right;\">\n",
       "      <th></th>\n",
       "      <th>work_year</th>\n",
       "      <th>experience_level</th>\n",
       "      <th>employment_type</th>\n",
       "      <th>job_title</th>\n",
       "      <th>salary</th>\n",
       "      <th>salary_currency</th>\n",
       "      <th>salary_in_usd</th>\n",
       "      <th>employee_residence</th>\n",
       "      <th>remote_ratio</th>\n",
       "      <th>company_location</th>\n",
       "      <th>company_size</th>\n",
       "    </tr>\n",
       "  </thead>\n",
       "  <tbody>\n",
       "    <tr>\n",
       "      <th>0</th>\n",
       "      <td>2023</td>\n",
       "      <td>SE</td>\n",
       "      <td>FT</td>\n",
       "      <td>Principal Data Scientist</td>\n",
       "      <td>80000</td>\n",
       "      <td>EUR</td>\n",
       "      <td>85847</td>\n",
       "      <td>ES</td>\n",
       "      <td>100</td>\n",
       "      <td>ES</td>\n",
       "      <td>L</td>\n",
       "    </tr>\n",
       "    <tr>\n",
       "      <th>1</th>\n",
       "      <td>2023</td>\n",
       "      <td>MI</td>\n",
       "      <td>CT</td>\n",
       "      <td>ML Engineer</td>\n",
       "      <td>30000</td>\n",
       "      <td>USD</td>\n",
       "      <td>30000</td>\n",
       "      <td>US</td>\n",
       "      <td>100</td>\n",
       "      <td>US</td>\n",
       "      <td>S</td>\n",
       "    </tr>\n",
       "    <tr>\n",
       "      <th>2</th>\n",
       "      <td>2023</td>\n",
       "      <td>MI</td>\n",
       "      <td>CT</td>\n",
       "      <td>ML Engineer</td>\n",
       "      <td>25500</td>\n",
       "      <td>USD</td>\n",
       "      <td>25500</td>\n",
       "      <td>US</td>\n",
       "      <td>100</td>\n",
       "      <td>US</td>\n",
       "      <td>S</td>\n",
       "    </tr>\n",
       "    <tr>\n",
       "      <th>3</th>\n",
       "      <td>2023</td>\n",
       "      <td>SE</td>\n",
       "      <td>FT</td>\n",
       "      <td>Data Scientist</td>\n",
       "      <td>175000</td>\n",
       "      <td>USD</td>\n",
       "      <td>175000</td>\n",
       "      <td>CA</td>\n",
       "      <td>100</td>\n",
       "      <td>CA</td>\n",
       "      <td>M</td>\n",
       "    </tr>\n",
       "    <tr>\n",
       "      <th>4</th>\n",
       "      <td>2023</td>\n",
       "      <td>SE</td>\n",
       "      <td>FT</td>\n",
       "      <td>Data Scientist</td>\n",
       "      <td>120000</td>\n",
       "      <td>USD</td>\n",
       "      <td>120000</td>\n",
       "      <td>CA</td>\n",
       "      <td>100</td>\n",
       "      <td>CA</td>\n",
       "      <td>M</td>\n",
       "    </tr>\n",
       "    <tr>\n",
       "      <th>...</th>\n",
       "      <td>...</td>\n",
       "      <td>...</td>\n",
       "      <td>...</td>\n",
       "      <td>...</td>\n",
       "      <td>...</td>\n",
       "      <td>...</td>\n",
       "      <td>...</td>\n",
       "      <td>...</td>\n",
       "      <td>...</td>\n",
       "      <td>...</td>\n",
       "      <td>...</td>\n",
       "    </tr>\n",
       "    <tr>\n",
       "      <th>3750</th>\n",
       "      <td>2020</td>\n",
       "      <td>SE</td>\n",
       "      <td>FT</td>\n",
       "      <td>Data Scientist</td>\n",
       "      <td>412000</td>\n",
       "      <td>USD</td>\n",
       "      <td>412000</td>\n",
       "      <td>US</td>\n",
       "      <td>100</td>\n",
       "      <td>US</td>\n",
       "      <td>L</td>\n",
       "    </tr>\n",
       "    <tr>\n",
       "      <th>3751</th>\n",
       "      <td>2021</td>\n",
       "      <td>MI</td>\n",
       "      <td>FT</td>\n",
       "      <td>Principal Data Scientist</td>\n",
       "      <td>151000</td>\n",
       "      <td>USD</td>\n",
       "      <td>151000</td>\n",
       "      <td>US</td>\n",
       "      <td>100</td>\n",
       "      <td>US</td>\n",
       "      <td>L</td>\n",
       "    </tr>\n",
       "    <tr>\n",
       "      <th>3752</th>\n",
       "      <td>2020</td>\n",
       "      <td>EN</td>\n",
       "      <td>FT</td>\n",
       "      <td>Data Scientist</td>\n",
       "      <td>105000</td>\n",
       "      <td>USD</td>\n",
       "      <td>105000</td>\n",
       "      <td>US</td>\n",
       "      <td>100</td>\n",
       "      <td>US</td>\n",
       "      <td>S</td>\n",
       "    </tr>\n",
       "    <tr>\n",
       "      <th>3753</th>\n",
       "      <td>2020</td>\n",
       "      <td>EN</td>\n",
       "      <td>CT</td>\n",
       "      <td>Business Data Analyst</td>\n",
       "      <td>100000</td>\n",
       "      <td>USD</td>\n",
       "      <td>100000</td>\n",
       "      <td>US</td>\n",
       "      <td>100</td>\n",
       "      <td>US</td>\n",
       "      <td>L</td>\n",
       "    </tr>\n",
       "    <tr>\n",
       "      <th>3754</th>\n",
       "      <td>2021</td>\n",
       "      <td>SE</td>\n",
       "      <td>FT</td>\n",
       "      <td>Data Science Manager</td>\n",
       "      <td>7000000</td>\n",
       "      <td>INR</td>\n",
       "      <td>94665</td>\n",
       "      <td>IN</td>\n",
       "      <td>50</td>\n",
       "      <td>IN</td>\n",
       "      <td>L</td>\n",
       "    </tr>\n",
       "  </tbody>\n",
       "</table>\n",
       "<p>3755 rows × 11 columns</p>\n",
       "</div>"
      ],
      "text/plain": [
       "      work_year experience_level employment_type                 job_title  \\\n",
       "0          2023               SE              FT  Principal Data Scientist   \n",
       "1          2023               MI              CT               ML Engineer   \n",
       "2          2023               MI              CT               ML Engineer   \n",
       "3          2023               SE              FT            Data Scientist   \n",
       "4          2023               SE              FT            Data Scientist   \n",
       "...         ...              ...             ...                       ...   \n",
       "3750       2020               SE              FT            Data Scientist   \n",
       "3751       2021               MI              FT  Principal Data Scientist   \n",
       "3752       2020               EN              FT            Data Scientist   \n",
       "3753       2020               EN              CT     Business Data Analyst   \n",
       "3754       2021               SE              FT      Data Science Manager   \n",
       "\n",
       "       salary salary_currency  salary_in_usd employee_residence  remote_ratio  \\\n",
       "0       80000             EUR          85847                 ES           100   \n",
       "1       30000             USD          30000                 US           100   \n",
       "2       25500             USD          25500                 US           100   \n",
       "3      175000             USD         175000                 CA           100   \n",
       "4      120000             USD         120000                 CA           100   \n",
       "...       ...             ...            ...                ...           ...   \n",
       "3750   412000             USD         412000                 US           100   \n",
       "3751   151000             USD         151000                 US           100   \n",
       "3752   105000             USD         105000                 US           100   \n",
       "3753   100000             USD         100000                 US           100   \n",
       "3754  7000000             INR          94665                 IN            50   \n",
       "\n",
       "     company_location company_size  \n",
       "0                  ES            L  \n",
       "1                  US            S  \n",
       "2                  US            S  \n",
       "3                  CA            M  \n",
       "4                  CA            M  \n",
       "...               ...          ...  \n",
       "3750               US            L  \n",
       "3751               US            L  \n",
       "3752               US            S  \n",
       "3753               US            L  \n",
       "3754               IN            L  \n",
       "\n",
       "[3755 rows x 11 columns]"
      ]
     },
     "execution_count": 37,
     "metadata": {},
     "output_type": "execute_result"
    }
   ],
   "source": [
    "df = pd.read_csv('ds_salaries.csv')\n",
    "df"
   ]
  },
  {
   "cell_type": "code",
   "execution_count": 38,
   "id": "33319db7",
   "metadata": {},
   "outputs": [
    {
     "data": {
      "text/plain": [
       "work_year              int64\n",
       "experience_level      object\n",
       "employment_type       object\n",
       "job_title             object\n",
       "salary                 int64\n",
       "salary_currency       object\n",
       "salary_in_usd          int64\n",
       "employee_residence    object\n",
       "remote_ratio           int64\n",
       "company_location      object\n",
       "company_size          object\n",
       "dtype: object"
      ]
     },
     "execution_count": 38,
     "metadata": {},
     "output_type": "execute_result"
    }
   ],
   "source": [
    "df.dtypes"
   ]
  },
  {
   "cell_type": "code",
   "execution_count": 39,
   "id": "fe5023f5",
   "metadata": {},
   "outputs": [
    {
     "name": "stdout",
     "output_type": "stream",
     "text": [
      "<class 'pandas.core.frame.DataFrame'>\n",
      "RangeIndex: 3755 entries, 0 to 3754\n",
      "Data columns (total 11 columns):\n",
      " #   Column              Non-Null Count  Dtype \n",
      "---  ------              --------------  ----- \n",
      " 0   work_year           3755 non-null   int64 \n",
      " 1   experience_level    3755 non-null   object\n",
      " 2   employment_type     3755 non-null   object\n",
      " 3   job_title           3755 non-null   object\n",
      " 4   salary              3755 non-null   int64 \n",
      " 5   salary_currency     3755 non-null   object\n",
      " 6   salary_in_usd       3755 non-null   int64 \n",
      " 7   employee_residence  3755 non-null   object\n",
      " 8   remote_ratio        3755 non-null   int64 \n",
      " 9   company_location    3755 non-null   object\n",
      " 10  company_size        3755 non-null   object\n",
      "dtypes: int64(4), object(7)\n",
      "memory usage: 322.8+ KB\n"
     ]
    }
   ],
   "source": [
    "df.info()"
   ]
  },
  {
   "cell_type": "code",
   "execution_count": 40,
   "id": "d68cb87f",
   "metadata": {},
   "outputs": [
    {
     "data": {
      "text/html": [
       "<div>\n",
       "<style scoped>\n",
       "    .dataframe tbody tr th:only-of-type {\n",
       "        vertical-align: middle;\n",
       "    }\n",
       "\n",
       "    .dataframe tbody tr th {\n",
       "        vertical-align: top;\n",
       "    }\n",
       "\n",
       "    .dataframe thead th {\n",
       "        text-align: right;\n",
       "    }\n",
       "</style>\n",
       "<table border=\"1\" class=\"dataframe\">\n",
       "  <thead>\n",
       "    <tr style=\"text-align: right;\">\n",
       "      <th></th>\n",
       "      <th>work_year</th>\n",
       "      <th>salary</th>\n",
       "      <th>salary_in_usd</th>\n",
       "      <th>remote_ratio</th>\n",
       "    </tr>\n",
       "  </thead>\n",
       "  <tbody>\n",
       "    <tr>\n",
       "      <th>count</th>\n",
       "      <td>3755.000000</td>\n",
       "      <td>3.755000e+03</td>\n",
       "      <td>3755.000000</td>\n",
       "      <td>3755.000000</td>\n",
       "    </tr>\n",
       "    <tr>\n",
       "      <th>mean</th>\n",
       "      <td>2022.373635</td>\n",
       "      <td>1.906956e+05</td>\n",
       "      <td>137570.389880</td>\n",
       "      <td>46.271638</td>\n",
       "    </tr>\n",
       "    <tr>\n",
       "      <th>std</th>\n",
       "      <td>0.691448</td>\n",
       "      <td>6.716765e+05</td>\n",
       "      <td>63055.625278</td>\n",
       "      <td>48.589050</td>\n",
       "    </tr>\n",
       "    <tr>\n",
       "      <th>min</th>\n",
       "      <td>2020.000000</td>\n",
       "      <td>6.000000e+03</td>\n",
       "      <td>5132.000000</td>\n",
       "      <td>0.000000</td>\n",
       "    </tr>\n",
       "    <tr>\n",
       "      <th>25%</th>\n",
       "      <td>2022.000000</td>\n",
       "      <td>1.000000e+05</td>\n",
       "      <td>95000.000000</td>\n",
       "      <td>0.000000</td>\n",
       "    </tr>\n",
       "    <tr>\n",
       "      <th>50%</th>\n",
       "      <td>2022.000000</td>\n",
       "      <td>1.380000e+05</td>\n",
       "      <td>135000.000000</td>\n",
       "      <td>0.000000</td>\n",
       "    </tr>\n",
       "    <tr>\n",
       "      <th>75%</th>\n",
       "      <td>2023.000000</td>\n",
       "      <td>1.800000e+05</td>\n",
       "      <td>175000.000000</td>\n",
       "      <td>100.000000</td>\n",
       "    </tr>\n",
       "    <tr>\n",
       "      <th>max</th>\n",
       "      <td>2023.000000</td>\n",
       "      <td>3.040000e+07</td>\n",
       "      <td>450000.000000</td>\n",
       "      <td>100.000000</td>\n",
       "    </tr>\n",
       "  </tbody>\n",
       "</table>\n",
       "</div>"
      ],
      "text/plain": [
       "         work_year        salary  salary_in_usd  remote_ratio\n",
       "count  3755.000000  3.755000e+03    3755.000000   3755.000000\n",
       "mean   2022.373635  1.906956e+05  137570.389880     46.271638\n",
       "std       0.691448  6.716765e+05   63055.625278     48.589050\n",
       "min    2020.000000  6.000000e+03    5132.000000      0.000000\n",
       "25%    2022.000000  1.000000e+05   95000.000000      0.000000\n",
       "50%    2022.000000  1.380000e+05  135000.000000      0.000000\n",
       "75%    2023.000000  1.800000e+05  175000.000000    100.000000\n",
       "max    2023.000000  3.040000e+07  450000.000000    100.000000"
      ]
     },
     "execution_count": 40,
     "metadata": {},
     "output_type": "execute_result"
    }
   ],
   "source": [
    "df.describe()"
   ]
  },
  {
   "cell_type": "code",
   "execution_count": 41,
   "id": "c23e59bc",
   "metadata": {},
   "outputs": [
    {
     "data": {
      "text/plain": [
       "work_year             0\n",
       "experience_level      0\n",
       "employment_type       0\n",
       "job_title             0\n",
       "salary                0\n",
       "salary_currency       0\n",
       "salary_in_usd         0\n",
       "employee_residence    0\n",
       "remote_ratio          0\n",
       "company_location      0\n",
       "company_size          0\n",
       "dtype: int64"
      ]
     },
     "execution_count": 41,
     "metadata": {},
     "output_type": "execute_result"
    }
   ],
   "source": [
    "df.isnull().sum()"
   ]
  },
  {
   "cell_type": "code",
   "execution_count": 42,
   "id": "70a9f736",
   "metadata": {},
   "outputs": [
    {
     "data": {
      "text/plain": [
       "array(['Principal Data Scientist', 'ML Engineer', 'Data Scientist',\n",
       "       'Applied Scientist', 'Data Analyst', 'Data Modeler',\n",
       "       'Research Engineer', 'Analytics Engineer',\n",
       "       'Business Intelligence Engineer', 'Machine Learning Engineer',\n",
       "       'Data Strategist', 'Data Engineer', 'Computer Vision Engineer',\n",
       "       'Data Quality Analyst', 'Compliance Data Analyst',\n",
       "       'Data Architect', 'Applied Machine Learning Engineer',\n",
       "       'AI Developer', 'Research Scientist', 'Data Analytics Manager',\n",
       "       'Business Data Analyst', 'Applied Data Scientist',\n",
       "       'Staff Data Analyst', 'ETL Engineer', 'Data DevOps Engineer',\n",
       "       'Head of Data', 'Data Science Manager', 'Data Manager',\n",
       "       'Machine Learning Researcher', 'Big Data Engineer',\n",
       "       'Data Specialist', 'Lead Data Analyst', 'BI Data Engineer',\n",
       "       'Director of Data Science', 'Machine Learning Scientist',\n",
       "       'MLOps Engineer', 'AI Scientist', 'Autonomous Vehicle Technician',\n",
       "       'Applied Machine Learning Scientist', 'Lead Data Scientist',\n",
       "       'Cloud Database Engineer', 'Financial Data Analyst',\n",
       "       'Data Infrastructure Engineer', 'Software Data Engineer',\n",
       "       'AI Programmer', 'Data Operations Engineer', 'BI Developer',\n",
       "       'Data Science Lead', 'Deep Learning Researcher', 'BI Analyst',\n",
       "       'Data Science Consultant', 'Data Analytics Specialist',\n",
       "       'Machine Learning Infrastructure Engineer', 'BI Data Analyst',\n",
       "       'Head of Data Science', 'Insight Analyst',\n",
       "       'Deep Learning Engineer', 'Machine Learning Software Engineer',\n",
       "       'Big Data Architect', 'Product Data Analyst',\n",
       "       'Computer Vision Software Engineer', 'Azure Data Engineer',\n",
       "       'Marketing Data Engineer', 'Data Analytics Lead', 'Data Lead',\n",
       "       'Data Science Engineer', 'Machine Learning Research Engineer',\n",
       "       'NLP Engineer', 'Manager Data Management',\n",
       "       'Machine Learning Developer', '3D Computer Vision Researcher',\n",
       "       'Principal Machine Learning Engineer', 'Data Analytics Engineer',\n",
       "       'Data Analytics Consultant', 'Data Management Specialist',\n",
       "       'Data Science Tech Lead', 'Data Scientist Lead',\n",
       "       'Cloud Data Engineer', 'Data Operations Analyst',\n",
       "       'Marketing Data Analyst', 'Power BI Developer',\n",
       "       'Product Data Scientist', 'Principal Data Architect',\n",
       "       'Machine Learning Manager', 'Lead Machine Learning Engineer',\n",
       "       'ETL Developer', 'Cloud Data Architect', 'Lead Data Engineer',\n",
       "       'Head of Machine Learning', 'Principal Data Analyst',\n",
       "       'Principal Data Engineer', 'Staff Data Scientist',\n",
       "       'Finance Data Analyst'], dtype=object)"
      ]
     },
     "execution_count": 42,
     "metadata": {},
     "output_type": "execute_result"
    }
   ],
   "source": [
    "df['job_title'].unique()"
   ]
  },
  {
   "cell_type": "code",
   "execution_count": 43,
   "id": "c2874936",
   "metadata": {},
   "outputs": [
    {
     "data": {
      "text/plain": [
       "array(['ES', 'US', 'CA', 'DE', 'GB', 'NG', 'IN', 'HK', 'PT', 'NL', 'CH',\n",
       "       'CF', 'FR', 'AU', 'FI', 'UA', 'IE', 'IL', 'GH', 'AT', 'CO', 'SG',\n",
       "       'SE', 'SI', 'MX', 'UZ', 'BR', 'TH', 'HR', 'PL', 'KW', 'VN', 'CY',\n",
       "       'AR', 'AM', 'BA', 'KE', 'GR', 'MK', 'LV', 'RO', 'PK', 'IT', 'MA',\n",
       "       'LT', 'BE', 'AS', 'IR', 'HU', 'SK', 'CN', 'CZ', 'CR', 'TR', 'CL',\n",
       "       'PR', 'DK', 'BO', 'PH', 'DO', 'EG', 'ID', 'AE', 'MY', 'JP', 'EE',\n",
       "       'HN', 'TN', 'RU', 'DZ', 'IQ', 'BG', 'JE', 'RS', 'NZ', 'MD', 'LU',\n",
       "       'MT'], dtype=object)"
      ]
     },
     "execution_count": 43,
     "metadata": {},
     "output_type": "execute_result"
    }
   ],
   "source": [
    "df['employee_residence'].unique()"
   ]
  },
  {
   "cell_type": "code",
   "execution_count": 44,
   "id": "8700e683",
   "metadata": {},
   "outputs": [
    {
     "data": {
      "text/plain": [
       "work_year                4\n",
       "experience_level         4\n",
       "employment_type          4\n",
       "job_title               93\n",
       "salary                 815\n",
       "salary_currency         20\n",
       "salary_in_usd         1035\n",
       "employee_residence      78\n",
       "remote_ratio             3\n",
       "company_location        72\n",
       "company_size             3\n",
       "dtype: int64"
      ]
     },
     "execution_count": 44,
     "metadata": {},
     "output_type": "execute_result"
    }
   ],
   "source": [
    "df.nunique()"
   ]
  },
  {
   "cell_type": "code",
   "execution_count": 45,
   "id": "59754616",
   "metadata": {},
   "outputs": [
    {
     "data": {
      "text/plain": [
       "1171"
      ]
     },
     "execution_count": 45,
     "metadata": {},
     "output_type": "execute_result"
    }
   ],
   "source": [
    "df.duplicated().sum()"
   ]
  },
  {
   "cell_type": "code",
   "execution_count": 46,
   "id": "00000353",
   "metadata": {},
   "outputs": [],
   "source": [
    "df.drop_duplicates(inplace=True)"
   ]
  },
  {
   "cell_type": "code",
   "execution_count": 47,
   "id": "dd3d0af4",
   "metadata": {},
   "outputs": [
    {
     "name": "stderr",
     "output_type": "stream",
     "text": [
      "<ipython-input-47-bd28006d40c9>:2: FutureWarning: The default value of numeric_only in DataFrame.corr is deprecated. In a future version, it will default to False. Select only valid columns or specify the value of numeric_only to silence this warning.\n",
      "  sns.heatmap(df.corr(),annot = True,square = True,cmap='Blues')\n"
     ]
    },
    {
     "data": {
      "text/plain": [
       "<AxesSubplot:>"
      ]
     },
     "execution_count": 47,
     "metadata": {},
     "output_type": "execute_result"
    },
    {
     "data": {
      "image/png": "[encoded data removed]",
      "text/plain": [
       "<Figure size 720x432 with 2 Axes>"
      ]
     },
     "metadata": {
      "needs_background": "light"
     },
     "output_type": "display_data"
    }
   ],
   "source": [
    "plt.figure(figsize = (10,6))\n",
    "sns.heatmap(df.corr(),annot = True,square = True,cmap='Blues')"
   ]
  },
  {
   "cell_type": "code",
   "execution_count": 48,
   "id": "51d1187e",
   "metadata": {},
   "outputs": [
    {
     "data": {
      "image/png": "[encoded data removed]",
      "text/plain": [
       "<Figure size 576x432 with 1 Axes>"
      ]
     },
     "metadata": {
      "needs_background": "light"
     },
     "output_type": "display_data"
    }
   ],
   "source": [
    "plt.figure(figsize = (8,6))\n",
    "sns.boxplot(x = df['salary_in_usd'])\n",
    "plt.title('Salary in USD', fontsize = 10)\n",
    "plt.show()"
   ]
  },
  {
   "cell_type": "code",
   "execution_count": 49,
   "id": "28a57150",
   "metadata": {},
   "outputs": [
    {
     "data": {
      "image/png": "[encoded data removed]",
      "text/plain": [
       "<Figure size 432x288 with 1 Axes>"
      ]
     },
     "metadata": {
      "needs_background": "light"
     },
     "output_type": "display_data"
    }
   ],
   "source": [
    "sns.barplot(x ='work_year',y = 'salary_in_usd',data = df,hue = 'employment_type')\n",
    "plt.show()"
   ]
  },
  {
   "cell_type": "code",
   "execution_count": 50,
   "id": "931c8ac3",
   "metadata": {},
   "outputs": [
    {
     "data": {
      "image/png": "[encoded data removed]",
      "text/plain": [
       "<Figure size 1080x720 with 1 Axes>"
      ]
     },
     "metadata": {
      "needs_background": "light"
     },
     "output_type": "display_data"
    }
   ],
   "source": [
    "plt.figure(figsize = (15,10))\n",
    "sns.countplot(x = 'job_title',data = df)\n",
    "plt.xticks(rotation=90)\n",
    "plt.show()"
   ]
  },
  {
   "cell_type": "code",
   "execution_count": 51,
   "id": "a26fc15a",
   "metadata": {},
   "outputs": [
    {
     "data": {
      "image/png": "[encoded data removed]",
      "text/plain": [
       "<Figure size 1440x864 with 1 Axes>"
      ]
     },
     "metadata": {
      "needs_background": "light"
     },
     "output_type": "display_data"
    }
   ],
   "source": [
    "plt.figure(figsize = (20,12))\n",
    "sns.barplot(x = 'job_title',y='salary_in_usd',data=df)\n",
    "plt.show()"
   ]
  },
  {
   "cell_type": "code",
   "execution_count": 52,
   "id": "cee2fc84",
   "metadata": {},
   "outputs": [
    {
     "data": {
      "image/png": "[encoded data removed]",
      "text/plain": [
       "<Figure size 432x288 with 1 Axes>"
      ]
     },
     "metadata": {
      "needs_background": "light"
     },
     "output_type": "display_data"
    }
   ],
   "source": [
    "sns.lineplot(x = 'work_year',y='salary_in_usd',data=df)\n",
    "plt.show()"
   ]
  },
  {
   "cell_type": "code",
   "execution_count": 53,
   "id": "147c5605",
   "metadata": {},
   "outputs": [
    {
     "data": {
      "image/png": "[encoded data removed]",
      "text/plain": [
       "<Figure size 432x288 with 1 Axes>"
      ]
     },
     "metadata": {
      "needs_background": "light"
     },
     "output_type": "display_data"
    }
   ],
   "source": [
    "sns.boxplot(x='work_year',y='salary_in_usd',data=df)\n",
    "plt.show()"
   ]
  },
  {
   "cell_type": "code",
   "execution_count": 54,
   "id": "f153a1fe",
   "metadata": {},
   "outputs": [
    {
     "data": {
      "image/png": "[encoded data removed]",
      "text/plain": [
       "<Figure size 432x288 with 1 Axes>"
      ]
     },
     "metadata": {
      "needs_background": "light"
     },
     "output_type": "display_data"
    }
   ],
   "source": [
    "sns.histplot(data=df,x= 'salary_in_usd',kde=True,hue='experience_level')\n",
    "plt.show()"
   ]
  },
  {
   "cell_type": "code",
   "execution_count": 55,
   "id": "99f06388",
   "metadata": {},
   "outputs": [
    {
     "data": {
      "image/png": "[encoded data removed]",
      "text/plain": [
       "<Figure size 432x288 with 1 Axes>"
      ]
     },
     "metadata": {
      "needs_background": "light"
     },
     "output_type": "display_data"
    }
   ],
   "source": [
    "sns.countplot(x='work_year',data=df,hue='experience_level')\n",
    "plt.show()"
   ]
  },
  {
   "cell_type": "code",
   "execution_count": 56,
   "id": "9edef9ec",
   "metadata": {},
   "outputs": [
    {
     "data": {
      "image/png": "[encoded data removed]",
      "text/plain": [
       "<Figure size 432x288 with 1 Axes>"
      ]
     },
     "metadata": {
      "needs_background": "light"
     },
     "output_type": "display_data"
    }
   ],
   "source": [
    "sns.countplot(x='work_year',data=df,hue='remote_ratio')\n",
    "plt.xticks(rotation=90)\n",
    "plt.show()"
   ]
  },
  {
   "cell_type": "code",
   "execution_count": 57,
   "id": "22bad1cf",
   "metadata": {},
   "outputs": [
    {
     "name": "stderr",
     "output_type": "stream",
     "text": [
      "C:\\Users\\Admin\\anaconda3\\lib\\site-packages\\seaborn\\_decorators.py:36: FutureWarning: Pass the following variable as a keyword arg: x. From version 0.12, the only valid positional argument will be `data`, and passing other arguments without an explicit keyword will result in an error or misinterpretation.\n",
      "  warnings.warn(\n"
     ]
    },
    {
     "data": {
      "image/png": "[encoded data removed]",
      "text/plain": [
       "<Figure size 504x504 with 1 Axes>"
      ]
     },
     "metadata": {
      "needs_background": "light"
     },
     "output_type": "display_data"
    }
   ],
   "source": [
    "plt.figure(figsize=(7,7))\n",
    "sns.countplot(df['employment_type'],data=df,color='slateblue')\n",
    "plt.title('EMPLOYMENT_TYPE')\n",
    "plt.show()"
   ]
  },
  {
   "cell_type": "code",
   "execution_count": 58,
   "id": "1cdd36ef",
   "metadata": {},
   "outputs": [
    {
     "name": "stderr",
     "output_type": "stream",
     "text": [
      "C:\\Users\\Admin\\anaconda3\\lib\\site-packages\\seaborn\\_decorators.py:36: FutureWarning: Pass the following variable as a keyword arg: x. From version 0.12, the only valid positional argument will be `data`, and passing other arguments without an explicit keyword will result in an error or misinterpretation.\n",
      "  warnings.warn(\n"
     ]
    },
    {
     "data": {
      "image/png": "[encoded data removed]",
      "text/plain": [
       "<Figure size 432x288 with 1 Axes>"
      ]
     },
     "metadata": {
      "needs_background": "light"
     },
     "output_type": "display_data"
    }
   ],
   "source": [
    "sns.countplot(df['remote_ratio'],data=df)\n",
    "plt.xticks(rotation=90)\n",
    "plt.show()"
   ]
  },
  {
   "cell_type": "code",
   "execution_count": 59,
   "id": "f9bb9cdd",
   "metadata": {},
   "outputs": [
    {
     "data": {
      "image/png": "[encoded data removed]",
      "text/plain": [
       "<Figure size 432x288 with 1 Axes>"
      ]
     },
     "metadata": {
      "needs_background": "light"
     },
     "output_type": "display_data"
    }
   ],
   "source": [
    "sns.barplot(x='company_size',y='salary_in_usd',data=df)\n",
    "plt.show()"
   ]
  },
  {
   "cell_type": "markdown",
   "id": "02f253cc",
   "metadata": {},
   "source": [
    "Data Preprocessing"
   ]
  },
  {
   "cell_type": "code",
   "execution_count": 60,
   "id": "ec4b9790",
   "metadata": {},
   "outputs": [
    {
     "data": {
      "text/html": [
       "<div>\n",
       "<style scoped>\n",
       "    .dataframe tbody tr th:only-of-type {\n",
       "        vertical-align: middle;\n",
       "    }\n",
       "\n",
       "    .dataframe tbody tr th {\n",
       "        vertical-align: top;\n",
       "    }\n",
       "\n",
       "    .dataframe thead th {\n",
       "        text-align: right;\n",
       "    }\n",
       "</style>\n",
       "<table border=\"1\" class=\"dataframe\">\n",
       "  <thead>\n",
       "    <tr style=\"text-align: right;\">\n",
       "      <th></th>\n",
       "      <th>work_year</th>\n",
       "      <th>experience_level</th>\n",
       "      <th>employment_type</th>\n",
       "      <th>job_title</th>\n",
       "      <th>salary</th>\n",
       "      <th>salary_currency</th>\n",
       "      <th>salary_in_usd</th>\n",
       "      <th>employee_residence</th>\n",
       "      <th>remote_ratio</th>\n",
       "      <th>company_location</th>\n",
       "      <th>company_size</th>\n",
       "    </tr>\n",
       "  </thead>\n",
       "  <tbody>\n",
       "    <tr>\n",
       "      <th>0</th>\n",
       "      <td>2023</td>\n",
       "      <td>SE</td>\n",
       "      <td>FT</td>\n",
       "      <td>Principal Data Scientist</td>\n",
       "      <td>80000</td>\n",
       "      <td>EUR</td>\n",
       "      <td>85847</td>\n",
       "      <td>ES</td>\n",
       "      <td>100</td>\n",
       "      <td>ES</td>\n",
       "      <td>L</td>\n",
       "    </tr>\n",
       "    <tr>\n",
       "      <th>1</th>\n",
       "      <td>2023</td>\n",
       "      <td>MI</td>\n",
       "      <td>CT</td>\n",
       "      <td>ML Engineer</td>\n",
       "      <td>30000</td>\n",
       "      <td>USD</td>\n",
       "      <td>30000</td>\n",
       "      <td>US</td>\n",
       "      <td>100</td>\n",
       "      <td>US</td>\n",
       "      <td>S</td>\n",
       "    </tr>\n",
       "    <tr>\n",
       "      <th>2</th>\n",
       "      <td>2023</td>\n",
       "      <td>MI</td>\n",
       "      <td>CT</td>\n",
       "      <td>ML Engineer</td>\n",
       "      <td>25500</td>\n",
       "      <td>USD</td>\n",
       "      <td>25500</td>\n",
       "      <td>US</td>\n",
       "      <td>100</td>\n",
       "      <td>US</td>\n",
       "      <td>S</td>\n",
       "    </tr>\n",
       "    <tr>\n",
       "      <th>3</th>\n",
       "      <td>2023</td>\n",
       "      <td>SE</td>\n",
       "      <td>FT</td>\n",
       "      <td>Data Scientist</td>\n",
       "      <td>175000</td>\n",
       "      <td>USD</td>\n",
       "      <td>175000</td>\n",
       "      <td>CA</td>\n",
       "      <td>100</td>\n",
       "      <td>CA</td>\n",
       "      <td>M</td>\n",
       "    </tr>\n",
       "    <tr>\n",
       "      <th>4</th>\n",
       "      <td>2023</td>\n",
       "      <td>SE</td>\n",
       "      <td>FT</td>\n",
       "      <td>Data Scientist</td>\n",
       "      <td>120000</td>\n",
       "      <td>USD</td>\n",
       "      <td>120000</td>\n",
       "      <td>CA</td>\n",
       "      <td>100</td>\n",
       "      <td>CA</td>\n",
       "      <td>M</td>\n",
       "    </tr>\n",
       "    <tr>\n",
       "      <th>...</th>\n",
       "      <td>...</td>\n",
       "      <td>...</td>\n",
       "      <td>...</td>\n",
       "      <td>...</td>\n",
       "      <td>...</td>\n",
       "      <td>...</td>\n",
       "      <td>...</td>\n",
       "      <td>...</td>\n",
       "      <td>...</td>\n",
       "      <td>...</td>\n",
       "      <td>...</td>\n",
       "    </tr>\n",
       "    <tr>\n",
       "      <th>3750</th>\n",
       "      <td>2020</td>\n",
       "      <td>SE</td>\n",
       "      <td>FT</td>\n",
       "      <td>Data Scientist</td>\n",
       "      <td>412000</td>\n",
       "      <td>USD</td>\n",
       "      <td>412000</td>\n",
       "      <td>US</td>\n",
       "      <td>100</td>\n",
       "      <td>US</td>\n",
       "      <td>L</td>\n",
       "    </tr>\n",
       "    <tr>\n",
       "      <th>3751</th>\n",
       "      <td>2021</td>\n",
       "      <td>MI</td>\n",
       "      <td>FT</td>\n",
       "      <td>Principal Data Scientist</td>\n",
       "      <td>151000</td>\n",
       "      <td>USD</td>\n",
       "      <td>151000</td>\n",
       "      <td>US</td>\n",
       "      <td>100</td>\n",
       "      <td>US</td>\n",
       "      <td>L</td>\n",
       "    </tr>\n",
       "    <tr>\n",
       "      <th>3752</th>\n",
       "      <td>2020</td>\n",
       "      <td>EN</td>\n",
       "      <td>FT</td>\n",
       "      <td>Data Scientist</td>\n",
       "      <td>105000</td>\n",
       "      <td>USD</td>\n",
       "      <td>105000</td>\n",
       "      <td>US</td>\n",
       "      <td>100</td>\n",
       "      <td>US</td>\n",
       "      <td>S</td>\n",
       "    </tr>\n",
       "    <tr>\n",
       "      <th>3753</th>\n",
       "      <td>2020</td>\n",
       "      <td>EN</td>\n",
       "      <td>CT</td>\n",
       "      <td>Business Data Analyst</td>\n",
       "      <td>100000</td>\n",
       "      <td>USD</td>\n",
       "      <td>100000</td>\n",
       "      <td>US</td>\n",
       "      <td>100</td>\n",
       "      <td>US</td>\n",
       "      <td>L</td>\n",
       "    </tr>\n",
       "    <tr>\n",
       "      <th>3754</th>\n",
       "      <td>2021</td>\n",
       "      <td>SE</td>\n",
       "      <td>FT</td>\n",
       "      <td>Data Science Manager</td>\n",
       "      <td>7000000</td>\n",
       "      <td>INR</td>\n",
       "      <td>94665</td>\n",
       "      <td>IN</td>\n",
       "      <td>50</td>\n",
       "      <td>IN</td>\n",
       "      <td>L</td>\n",
       "    </tr>\n",
       "  </tbody>\n",
       "</table>\n",
       "<p>2488 rows × 11 columns</p>\n",
       "</div>"
      ],
      "text/plain": [
       "      work_year experience_level employment_type                 job_title  \\\n",
       "0          2023               SE              FT  Principal Data Scientist   \n",
       "1          2023               MI              CT               ML Engineer   \n",
       "2          2023               MI              CT               ML Engineer   \n",
       "3          2023               SE              FT            Data Scientist   \n",
       "4          2023               SE              FT            Data Scientist   \n",
       "...         ...              ...             ...                       ...   \n",
       "3750       2020               SE              FT            Data Scientist   \n",
       "3751       2021               MI              FT  Principal Data Scientist   \n",
       "3752       2020               EN              FT            Data Scientist   \n",
       "3753       2020               EN              CT     Business Data Analyst   \n",
       "3754       2021               SE              FT      Data Science Manager   \n",
       "\n",
       "       salary salary_currency  salary_in_usd employee_residence  remote_ratio  \\\n",
       "0       80000             EUR          85847                 ES           100   \n",
       "1       30000             USD          30000                 US           100   \n",
       "2       25500             USD          25500                 US           100   \n",
       "3      175000             USD         175000                 CA           100   \n",
       "4      120000             USD         120000                 CA           100   \n",
       "...       ...             ...            ...                ...           ...   \n",
       "3750   412000             USD         412000                 US           100   \n",
       "3751   151000             USD         151000                 US           100   \n",
       "3752   105000             USD         105000                 US           100   \n",
       "3753   100000             USD         100000                 US           100   \n",
       "3754  7000000             INR          94665                 IN            50   \n",
       "\n",
       "     company_location company_size  \n",
       "0                  ES            L  \n",
       "1                  US            S  \n",
       "2                  US            S  \n",
       "3                  CA            M  \n",
       "4                  CA            M  \n",
       "...               ...          ...  \n",
       "3750               US            L  \n",
       "3751               US            L  \n",
       "3752               US            S  \n",
       "3753               US            L  \n",
       "3754               IN            L  \n",
       "\n",
       "[2488 rows x 11 columns]"
      ]
     },
     "execution_count": 60,
     "metadata": {},
     "output_type": "execute_result"
    }
   ],
   "source": [
    "df[df['employee_residence']==df['company_location']]"
   ]
  },
  {
   "cell_type": "code",
   "execution_count": 61,
   "id": "7bfdf3d1",
   "metadata": {},
   "outputs": [],
   "source": [
    "X = df.drop('salary_in_usd',axis=1)\n",
    "y = df['salary_in_usd']"
   ]
  },
  {
   "cell_type": "code",
   "execution_count": 62,
   "id": "df28d2d1",
   "metadata": {},
   "outputs": [],
   "source": [
    "X_train,X_test,y_train,y_test = train_test_split(X,y,test_size=0.2,random_state=42)"
   ]
  },
  {
   "cell_type": "raw",
   "id": "329bc403",
   "metadata": {},
   "source": [
    "numerics = ['int16', 'int32', 'int64', 'float16', 'float32', 'float64']\n",
    "\n",
    "num_cols=list(X.select_dtypes(include=numerics).columns)\n",
    "num_cols"
   ]
  },
  {
   "cell_type": "code",
   "execution_count": 66,
   "id": "912ed72b",
   "metadata": {},
   "outputs": [
    {
     "data": {
      "text/plain": [
       "['work_year', 'salary', 'remote_ratio']"
      ]
     },
     "execution_count": 66,
     "metadata": {},
     "output_type": "execute_result"
    }
   ],
   "source": [
    "numerics = ['int16', 'int32', 'int64', 'float16', 'float32', 'float64']\n",
    "\n",
    "num_cols=list(X.select_dtypes(include=numerics).columns)\n",
    "num_cols"
   ]
  },
  {
   "cell_type": "code",
   "execution_count": 28,
   "id": "b12c9e9e",
   "metadata": {},
   "outputs": [],
   "source": [
    "#print(type('work_year'))"
   ]
  },
  {
   "cell_type": "code",
   "execution_count": 67,
   "id": "e6496502",
   "metadata": {},
   "outputs": [],
   "source": [
    "from sklearn.pipeline import Pipeline\n",
    "from sklearn.compose import ColumnTransformer"
   ]
  },
  {
   "cell_type": "code",
   "execution_count": 68,
   "id": "3f503cf6",
   "metadata": {},
   "outputs": [],
   "source": [
    "pipeline = ColumnTransformer(\n",
    "[\n",
    "   ('scaler',StandardScaler(),num_cols)\n",
    "])"
   ]
  },
  {
   "cell_type": "code",
   "execution_count": 69,
   "id": "c09a2bcc",
   "metadata": {},
   "outputs": [],
   "source": [
    "X_train = pipeline.fit_transform(X_train)"
   ]
  },
  {
   "cell_type": "code",
   "execution_count": 70,
   "id": "1052e534",
   "metadata": {},
   "outputs": [],
   "source": [
    "X_test = pipeline.transform(X_test)"
   ]
  },
  {
   "cell_type": "markdown",
   "id": "5f667df2",
   "metadata": {},
   "source": [
    "Model Evaluation"
   ]
  },
  {
   "cell_type": "code",
   "execution_count": 82,
   "id": "4a1ad324",
   "metadata": {},
   "outputs": [],
   "source": [
    "rf = RandomForestRegressor(n_estimators = 100,max_depth = 25,random_state=42)\n",
    "rf.fit(X_train,y_train)\n",
    "#make predictions on test data\n",
    "y_pred = rf.predict(X_test)"
   ]
  },
  {
   "cell_type": "code",
   "execution_count": 83,
   "id": "17371f1d",
   "metadata": {},
   "outputs": [
    {
     "name": "stdout",
     "output_type": "stream",
     "text": [
      "RandomForestRegressor :\n",
      "MSE :  950037577.8564425\n",
      "MAE:  6272.537808179767\n",
      "RMSE :  30822.6796021443\n"
     ]
    }
   ],
   "source": [
    "#calculating accuracy of the model\n",
    "#mse = mean_squared_error(y_test,y_pred)\n",
    "print('RandomForestRegressor :')\n",
    "print('MSE : ',mean_squared_error(y_test,y_pred))\n",
    "print('MAE: ',mean_absolute_error(y_test,y_pred))\n",
    "print('RMSE : ',mean_squared_error(y_test,y_pred,squared=False))"
   ]
  },
  {
   "cell_type": "code",
   "execution_count": 84,
   "id": "7af1d443",
   "metadata": {},
   "outputs": [],
   "source": [
    "lr = LinearRegression()\n",
    "lr.fit(X_train,y_train)\n",
    "y_pred = lr.predict(X_test)"
   ]
  },
  {
   "cell_type": "code",
   "execution_count": 85,
   "id": "f09b993a",
   "metadata": {},
   "outputs": [
    {
     "name": "stdout",
     "output_type": "stream",
     "text": [
      "LinearRegression\n",
      "MSE:  4093985100.903081\n",
      "MAE:  51780.608300357475\n",
      "RMSE:  63984.25666445677\n"
     ]
    }
   ],
   "source": [
    "print('LinearRegression')\n",
    "print('MSE: ',mean_squared_error(y_test,y_pred))\n",
    "print('MAE: ',mean_absolute_error(y_test,y_pred))\n",
    "print('RMSE: ',mean_squared_error(y_test,y_pred,squared=False))"
   ]
  },
  {
   "cell_type": "code",
   "execution_count": 87,
   "id": "e5de45ab",
   "metadata": {},
   "outputs": [],
   "source": [
    "xgb = XGBRegressor(n_estimators=100,learning_rate = 0.1,random_state=42)\n",
    "xgb.fit(X_train,y_train)\n",
    "y_pred = xgb.predict(X_test)"
   ]
  },
  {
   "cell_type": "code",
   "execution_count": 88,
   "id": "74f3e318",
   "metadata": {},
   "outputs": [
    {
     "name": "stdout",
     "output_type": "stream",
     "text": [
      "XGBRegressor :\n",
      "MSE:  1054664370.1161976\n",
      "MAE:  6775.579758900508\n",
      "RMSE:  32475.59653210696\n"
     ]
    }
   ],
   "source": [
    "print('XGBRegressor :')\n",
    "print('MSE: ',mean_squared_error(y_test,y_pred))\n",
    "print('MAE: ',mean_absolute_error(y_test,y_pred))\n",
    "print('RMSE: ',mean_squared_error(y_test,y_pred,squared=False))"
   ]
  },
  {
   "cell_type": "code",
   "execution_count": 89,
   "id": "f6affcdb",
   "metadata": {},
   "outputs": [
    {
     "name": "stderr",
     "output_type": "stream",
     "text": [
      "C:\\Users\\Admin\\anaconda3\\lib\\site-packages\\sklearn\\linear_model\\_logistic.py:763: ConvergenceWarning: lbfgs failed to converge (status=1):\n",
      "STOP: TOTAL NO. of ITERATIONS REACHED LIMIT.\n",
      "\n",
      "Increase the number of iterations (max_iter) or scale the data as shown in:\n",
      "    https://scikit-learn.org/stable/modules/preprocessing.html\n",
      "Please also refer to the documentation for alternative solver options:\n",
      "    https://scikit-learn.org/stable/modules/linear_model.html#logistic-regression\n",
      "  n_iter_i = _check_optimize_result(\n"
     ]
    }
   ],
   "source": [
    "lgr = LogisticRegression()\n",
    "lgr.fit(X_train,y_train)\n",
    "y_pred = lgr.predict(X_test)"
   ]
  },
  {
   "cell_type": "code",
   "execution_count": 90,
   "id": "49144cf4",
   "metadata": {},
   "outputs": [
    {
     "name": "stdout",
     "output_type": "stream",
     "text": [
      "LogisticRegression: \n",
      "MSE:  3972462664.7272725\n",
      "MAE:  48510.506769825915\n",
      "RMSE:  63027.47547480601\n"
     ]
    }
   ],
   "source": [
    "print('LogisticRegression: ')\n",
    "print('MSE: ',mean_squared_error(y_test,y_pred))\n",
    "print('MAE: ',mean_absolute_error(y_test,y_pred))\n",
    "print('RMSE: ',mean_squared_error(y_test,y_pred,squared=False))"
   ]
  },
  {
   "cell_type": "code",
   "execution_count": 94,
   "id": "6337bb33",
   "metadata": {},
   "outputs": [],
   "source": [
    "dt = DecisionTreeRegressor(max_depth = 25,random_state=42)\n",
    "dt.fit(X_train,y_train)\n",
    "y_pred = dt.predict(X_test)"
   ]
  },
  {
   "cell_type": "code",
   "execution_count": 95,
   "id": "b68ddafe",
   "metadata": {},
   "outputs": [
    {
     "name": "stdout",
     "output_type": "stream",
     "text": [
      "DecisionTreeRegressor: \n",
      "MSE:  1131098735.120813\n",
      "MAE:  6654.020404022343\n",
      "RMSE:  33631.81135652394\n"
     ]
    }
   ],
   "source": [
    "print('DecisionTreeRegressor: ')\n",
    "print('MSE: ',mean_squared_error(y_test,y_pred))\n",
    "print('MAE: ',mean_absolute_error(y_test,y_pred))\n",
    "print('RMSE: ',mean_squared_error(y_test,y_pred,squared=False))"
   ]
  },
  {
   "cell_type": "code",
   "execution_count": 96,
   "id": "e4fb5b80",
   "metadata": {},
   "outputs": [
    {
     "name": "stdout",
     "output_type": "stream",
     "text": [
      "Collecting tensorflow\n",
      "  Downloading tensorflow-2.12.0-cp38-cp38-win_amd64.whl (1.9 kB)\n",
      "Collecting tensorflow-intel==2.12.0\n",
      "  Downloading tensorflow_intel-2.12.0-cp38-cp38-win_amd64.whl (272.8 MB)\n",
      "Collecting grpcio<2.0,>=1.24.3\n",
      "  Downloading grpcio-1.56.0-cp38-cp38-win_amd64.whl (4.3 MB)\n",
      "Requirement already satisfied: six>=1.12.0 in c:\\users\\admin\\anaconda3\\lib\\site-packages (from tensorflow-intel==2.12.0->tensorflow) (1.15.0)\n",
      "Collecting termcolor>=1.1.0\n",
      "  Downloading termcolor-2.3.0-py3-none-any.whl (6.9 kB)\n",
      "Collecting protobuf!=4.21.0,!=4.21.1,!=4.21.2,!=4.21.3,!=4.21.4,!=4.21.5,<5.0.0dev,>=3.20.3\n",
      "  Downloading protobuf-4.23.3-cp38-cp38-win_amd64.whl (422 kB)\n",
      "Collecting opt-einsum>=2.3.2\n",
      "  Downloading opt_einsum-3.3.0-py3-none-any.whl (65 kB)\n",
      "Collecting flatbuffers>=2.0\n",
      "  Downloading flatbuffers-23.5.26-py2.py3-none-any.whl (26 kB)\n",
      "Collecting tensorboard<2.13,>=2.12\n",
      "  Downloading tensorboard-2.12.3-py3-none-any.whl (5.6 MB)\n",
      "Requirement already satisfied: packaging in c:\\users\\admin\\anaconda3\\lib\\site-packages (from tensorflow-intel==2.12.0->tensorflow) (23.0)\n",
      "Collecting tensorflow-estimator<2.13,>=2.12.0\n",
      "  Downloading tensorflow_estimator-2.12.0-py2.py3-none-any.whl (440 kB)\n",
      "Collecting libclang>=13.0.0\n",
      "  Downloading libclang-16.0.0-py2.py3-none-win_amd64.whl (24.4 MB)\n",
      "Collecting tensorflow-io-gcs-filesystem>=0.23.1\n",
      "  Downloading tensorflow_io_gcs_filesystem-0.31.0-cp38-cp38-win_amd64.whl (1.5 MB)\n",
      "Requirement already satisfied: wrapt<1.15,>=1.11.0 in c:\\users\\admin\\anaconda3\\lib\\site-packages (from tensorflow-intel==2.12.0->tensorflow) (1.12.1)\n",
      "Collecting gast<=0.4.0,>=0.2.1\n",
      "  Downloading gast-0.4.0-py3-none-any.whl (9.8 kB)\n",
      "Requirement already satisfied: setuptools in c:\\users\\admin\\anaconda3\\lib\\site-packages (from tensorflow-intel==2.12.0->tensorflow) (52.0.0.post20210125)\n",
      "Requirement already satisfied: typing-extensions>=3.6.6 in c:\\users\\admin\\anaconda3\\lib\\site-packages (from tensorflow-intel==2.12.0->tensorflow) (4.5.0)\n",
      "Requirement already satisfied: numpy<1.24,>=1.22 in c:\\users\\admin\\anaconda3\\lib\\site-packages (from tensorflow-intel==2.12.0->tensorflow) (1.22.4)\n",
      "Collecting jax>=0.3.15\n",
      "  Downloading jax-0.4.13.tar.gz (1.3 MB)\n",
      "  Installing build dependencies: started\n",
      "  Installing build dependencies: still running...\n",
      "  Installing build dependencies: finished with status 'done'\n",
      "  Getting requirements to build wheel: started\n",
      "  Getting requirements to build wheel: finished with status 'done'\n",
      "    Preparing wheel metadata: started\n",
      "    Preparing wheel metadata: finished with status 'done'"
     ]
    }
   ],
   "source": [
    "!pip install tensorflow"
   ]
  },
  {
   "cell_type": "code",
   "execution_count": 97,
   "id": "a2d0b52f",
   "metadata": {},
   "outputs": [
    {
     "name": "stdout",
     "output_type": "stream",
     "text": [
      "\n",
      "Collecting astunparse>=1.6.0\n",
      "  Downloading astunparse-1.6.3-py2.py3-none-any.whl (12 kB)\n",
      "Collecting absl-py>=1.0.0\n",
      "  Downloading absl_py-1.4.0-py3-none-any.whl (126 kB)\n",
      "Collecting keras<2.13,>=2.12.0\n",
      "  Downloading keras-2.12.0-py2.py3-none-any.whl (1.7 MB)\n",
      "Collecting google-pasta>=0.1.1\n",
      "  Downloading google_pasta-0.2.0-py3-none-any.whl (57 kB)\n",
      "Requirement already satisfied: h5py>=2.9.0 in c:\\users\\admin\\anaconda3\\lib\\site-packages (from tensorflow-intel==2.12.0->tensorflow) (2.10.0)\n",
      "Requirement already satisfied: wheel<1.0,>=0.23.0 in c:\\users\\admin\\anaconda3\\lib\\site-packages (from astunparse>=1.6.0->tensorflow-intel==2.12.0->tensorflow) (0.36.2)\n",
      "Collecting ml-dtypes>=0.1.0\n",
      "  Downloading ml_dtypes-0.2.0-cp38-cp38-win_amd64.whl (938 kB)\n",
      "Requirement already satisfied: scipy>=1.7 in c:\\users\\admin\\anaconda3\\lib\\site-packages (from jax>=0.3.15->tensorflow-intel==2.12.0->tensorflow) (1.10.1)\n",
      "Collecting importlib-metadata>=4.6\n",
      "  Downloading importlib_metadata-6.7.0-py3-none-any.whl (22 kB)\n",
      "Requirement already satisfied: zipp>=0.5 in c:\\users\\admin\\anaconda3\\lib\\site-packages (from importlib-metadata>=4.6->jax>=0.3.15->tensorflow-intel==2.12.0->tensorflow) (3.4.1)\n",
      "Collecting google-auth-oauthlib<1.1,>=0.5\n",
      "  Downloading google_auth_oauthlib-1.0.0-py2.py3-none-any.whl (18 kB)\n",
      "Collecting markdown>=2.6.8\n",
      "  Downloading Markdown-3.4.3-py3-none-any.whl (93 kB)\n",
      "Collecting google-auth<3,>=1.6.3\n",
      "  Downloading google_auth-2.21.0-py2.py3-none-any.whl (182 kB)\n",
      "Requirement already satisfied: requests<3,>=2.21.0 in c:\\users\\admin\\anaconda3\\lib\\site-packages (from tensorboard<2.13,>=2.12->tensorflow-intel==2.12.0->tensorflow) (2.28.2)\n",
      "Requirement already satisfied: werkzeug>=1.0.1 in c:\\users\\admin\\anaconda3\\lib\\site-packages (from tensorboard<2.13,>=2.12->tensorflow-intel==2.12.0->tensorflow) (1.0.1)\n",
      "Collecting tensorboard-data-server<0.8.0,>=0.7.0\n",
      "  Downloading tensorboard_data_server-0.7.1-py3-none-any.whl (2.4 kB)\n",
      "Requirement already satisfied: cachetools<6.0,>=2.0.0 in c:\\users\\admin\\anaconda3\\lib\\site-packages (from google-auth<3,>=1.6.3->tensorboard<2.13,>=2.12->tensorflow-intel==2.12.0->tensorflow) (5.1.0)\n",
      "Requirement already satisfied: urllib3<2.0 in c:\\users\\admin\\anaconda3\\lib\\site-packages (from google-auth<3,>=1.6.3->tensorboard<2.13,>=2.12->tensorflow-intel==2.12.0->tensorflow) (1.26.4)\n",
      "Collecting pyasn1-modules>=0.2.1\n",
      "  Downloading pyasn1_modules-0.3.0-py2.py3-none-any.whl (181 kB)\n",
      "Collecting rsa<5,>=3.1.4\n",
      "  Downloading rsa-4.9-py3-none-any.whl (34 kB)\n",
      "Collecting requests-oauthlib>=0.7.0\n",
      "  Downloading requests_oauthlib-1.3.1-py2.py3-none-any.whl (23 kB)\n",
      "Collecting pyasn1<0.6.0,>=0.4.6\n",
      "  Downloading pyasn1-0.5.0-py2.py3-none-any.whl (83 kB)\n",
      "Requirement already satisfied: charset-normalizer<4,>=2 in c:\\users\\admin\\anaconda3\\lib\\site-packages (from requests<3,>=2.21.0->tensorboard<2.13,>=2.12->tensorflow-intel==2.12.0->tensorflow) (3.1.0)\n",
      "Requirement already satisfied: idna<4,>=2.5 in c:\\users\\admin\\anaconda3\\lib\\site-packages (from requests<3,>=2.21.0->tensorboard<2.13,>=2.12->tensorflow-intel==2.12.0->tensorflow) (2.10)\n",
      "Requirement already satisfied: certifi>=2017.4.17 in c:\\users\\admin\\anaconda3\\lib\\site-packages (from requests<3,>=2.21.0->tensorboard<2.13,>=2.12->tensorflow-intel==2.12.0->tensorflow) (2022.12.7)\n",
      "Collecting oauthlib>=3.0.0\n",
      "  Downloading oauthlib-3.2.2-py3-none-any.whl (151 kB)\n",
      "Building wheels for collected packages: jax\n",
      "  Building wheel for jax (PEP 517): started\n",
      "  Building wheel for jax (PEP 517): finished with status 'done'\n",
      "  Created wheel for jax: filename=jax-0.4.13-py3-none-any.whl size=1518835 sha256=91d202c7cd66a88b5c2a8a3d819f558781c287bd2fa7e610a3406ee6a8b54734\n",
      "  Stored in directory: c:\\users\\admin\\appdata\\local\\pip\\cache\\wheels\\46\\d9\\15\\d2800d4089dc4c77299ac7513c6aa1036f5491edbd2bf6ba16\n",
      "Successfully built jax\n",
      "Installing collected packages: pyasn1, rsa, pyasn1-modules, oauthlib, requests-oauthlib, importlib-metadata, google-auth, tensorboard-data-server, protobuf, opt-einsum, ml-dtypes, markdown, grpcio, google-auth-oauthlib, absl-py, termcolor, tensorflow-io-gcs-filesystem, tensorflow-estimator, tensorboard, libclang, keras, jax, google-pasta, gast, flatbuffers, astunparse, tensorflow-intel, tensorflow\n",
      "  Attempting uninstall: importlib-metadata\n",
      "    Found existing installation: importlib-metadata 3.10.0\n",
      "    Uninstalling importlib-metadata-3.10.0:\n",
      "      Successfully uninstalled importlib-metadata-3.10.0\n",
      "  Attempting uninstall: protobuf\n",
      "    Found existing installation: protobuf 4.21.0\n",
      "    Uninstalling protobuf-4.21.0:\n",
      "      Successfully uninstalled protobuf-4.21.0\n",
      "Successfully installed absl-py-1.4.0 astunparse-1.6.3 flatbuffers-23.5.26 gast-0.4.0 google-auth-2.21.0 google-auth-oauthlib-1.0.0 google-pasta-0.2.0 grpcio-1.56.0 importlib-metadata-6.7.0 jax-0.4.13 keras-2.12.0 libclang-16.0.0 markdown-3.4.3 ml-dtypes-0.2.0 oauthlib-3.2.2 opt-einsum-3.3.0 protobuf-4.23.3 pyasn1-0.5.0 pyasn1-modules-0.3.0 requests-oauthlib-1.3.1 rsa-4.9 tensorboard-2.12.3 tensorboard-data-server-0.7.1 tensorflow-2.12.0 tensorflow-estimator-2.12.0 tensorflow-intel-2.12.0 tensorflow-io-gcs-filesystem-0.31.0 termcolor-2.3.0\n",
      "Requirement already satisfied: keras in c:\\users\\admin\\anaconda3\\lib\\site-packages (2.12.0)\n"
     ]
    }
   ],
   "source": [
    "!pip install keras"
   ]
  },
  {
   "cell_type": "code",
   "execution_count": 101,
   "id": "cbabc57a",
   "metadata": {},
   "outputs": [],
   "source": [
    "from keras.models import Sequential\n",
    "from keras.layers import Dense\n",
    "import tensorflow as tf"
   ]
  },
  {
   "cell_type": "code",
   "execution_count": 99,
   "id": "58b62c03",
   "metadata": {},
   "outputs": [],
   "source": [
    "#create model\n",
    "model = Sequential()\n",
    "model.add(Dense(128,activation='relu'))\n",
    "model.add(Dense(64,activation='relu'))\n",
    "model.add(Dense(32,activation='relu'))\n",
    "model.add(Dense(16,activation='relu'))\n",
    "model.add(Dense(8,activation='relu'))\n",
    "model.add(Dense(1))"
   ]
  },
  {
   "cell_type": "code",
   "execution_count": 102,
   "id": "d205bc63",
   "metadata": {},
   "outputs": [],
   "source": [
    "#model compile\n",
    "model.compile(loss = tf.keras.losses.MeanSquaredError(),optimizer='adam')"
   ]
  },
  {
   "cell_type": "code",
   "execution_count": 103,
   "id": "68c15cf8",
   "metadata": {},
   "outputs": [
    {
     "name": "stdout",
     "output_type": "stream",
     "text": [
      "Epoch 1/250\n",
      "65/65 [==============================] - 5s 9ms/step - loss: 22379094016.0000\n",
      "Epoch 2/250\n",
      "65/65 [==============================] - 0s 4ms/step - loss: 22345019392.0000\n",
      "Epoch 3/250\n",
      "65/65 [==============================] - 0s 3ms/step - loss: 21594470400.0000\n",
      "Epoch 4/250\n",
      "65/65 [==============================] - 0s 3ms/step - loss: 16002795520.0000\n",
      "Epoch 5/250\n",
      "65/65 [==============================] - 0s 3ms/step - loss: 6079462912.0000\n",
      "Epoch 6/250\n",
      "65/65 [==============================] - 0s 3ms/step - loss: 4591872000.0000\n",
      "Epoch 7/250\n",
      "65/65 [==============================] - 0s 3ms/step - loss: 4487931904.0000\n",
      "Epoch 8/250\n",
      "65/65 [==============================] - 0s 3ms/step - loss: 4419601920.0000\n",
      "Epoch 9/250\n",
      "65/65 [==============================] - 0s 3ms/step - loss: 4365389312.0000\n",
      "Epoch 10/250\n",
      "65/65 [==============================] - 0s 3ms/step - loss: 4326633984.0000\n",
      "Epoch 11/250\n",
      "65/65 [==============================] - 0s 3ms/step - loss: 4306568704.0000\n",
      "Epoch 12/250\n",
      "65/65 [==============================] - 0s 3ms/step - loss: 4284517632.0000\n",
      "Epoch 13/250\n",
      "65/65 [==============================] - 0s 3ms/step - loss: 4265810688.0000\n",
      "Epoch 14/250\n",
      "65/65 [==============================] - 0s 3ms/step - loss: 4250449664.0000\n",
      "Epoch 15/250\n",
      "65/65 [==============================] - 0s 3ms/step - loss: 4239337472.0000\n",
      "Epoch 16/250\n",
      "65/65 [==============================] - 0s 3ms/step - loss: 4231500288.0000\n",
      "Epoch 17/250\n",
      "65/65 [==============================] - 0s 3ms/step - loss: 4226054400.0000\n",
      "Epoch 18/250\n",
      "65/65 [==============================] - 0s 3ms/step - loss: 4222150912.0000\n",
      "Epoch 19/250\n",
      "65/65 [==============================] - 0s 3ms/step - loss: 4221844992.0000\n",
      "Epoch 20/250\n",
      "65/65 [==============================] - 0s 3ms/step - loss: 4214854656.0000\n",
      "Epoch 21/250\n",
      "65/65 [==============================] - 0s 3ms/step - loss: 4207650816.0000\n",
      "Epoch 22/250\n",
      "65/65 [==============================] - 0s 3ms/step - loss: 4209483264.0000\n",
      "Epoch 23/250\n",
      "65/65 [==============================] - 0s 3ms/step - loss: 4207606016.0000\n",
      "Epoch 24/250\n",
      "65/65 [==============================] - 0s 3ms/step - loss: 4200283904.0000\n",
      "Epoch 25/250\n",
      "65/65 [==============================] - 0s 3ms/step - loss: 4205653504.0000\n",
      "Epoch 26/250\n",
      "65/65 [==============================] - 0s 3ms/step - loss: 4206508288.0000\n",
      "Epoch 27/250\n",
      "65/65 [==============================] - 0s 3ms/step - loss: 4201080576.0000\n",
      "Epoch 28/250\n",
      "65/65 [==============================] - 0s 3ms/step - loss: 4196035072.0000\n",
      "Epoch 29/250\n",
      "65/65 [==============================] - 0s 3ms/step - loss: 4199405568.0000\n",
      "Epoch 30/250\n",
      "65/65 [==============================] - 0s 3ms/step - loss: 4191216640.0000\n",
      "Epoch 31/250\n",
      "65/65 [==============================] - 0s 3ms/step - loss: 4190628352.0000\n",
      "Epoch 32/250\n",
      "65/65 [==============================] - 0s 3ms/step - loss: 4192776704.0000\n",
      "Epoch 33/250\n",
      "65/65 [==============================] - 0s 3ms/step - loss: 4189842176.0000\n",
      "Epoch 34/250\n",
      "65/65 [==============================] - 0s 3ms/step - loss: 4193910528.0000\n",
      "Epoch 35/250\n",
      "65/65 [==============================] - 0s 3ms/step - loss: 4191550464.0000\n",
      "Epoch 36/250\n",
      "65/65 [==============================] - 0s 3ms/step - loss: 4196637184.0000\n",
      "Epoch 37/250\n",
      "65/65 [==============================] - 0s 3ms/step - loss: 4187922432.0000\n",
      "Epoch 38/250\n",
      "65/65 [==============================] - 0s 3ms/step - loss: 4190378496.0000\n",
      "Epoch 39/250\n",
      "65/65 [==============================] - 0s 3ms/step - loss: 4187531264.0000\n",
      "Epoch 40/250\n",
      "65/65 [==============================] - 0s 3ms/step - loss: 4191692288.0000\n",
      "Epoch 41/250\n",
      "65/65 [==============================] - 0s 3ms/step - loss: 4186470400.0000\n",
      "Epoch 42/250\n",
      "65/65 [==============================] - 0s 3ms/step - loss: 4184529152.0000\n",
      "Epoch 43/250\n",
      "65/65 [==============================] - 0s 3ms/step - loss: 4186147584.0000\n",
      "Epoch 44/250\n",
      "65/65 [==============================] - 0s 3ms/step - loss: 4189074688.0000\n",
      "Epoch 45/250\n",
      "65/65 [==============================] - 0s 3ms/step - loss: 4183795968.0000\n",
      "Epoch 46/250\n",
      "65/65 [==============================] - 0s 3ms/step - loss: 4181173248.0000\n",
      "Epoch 47/250\n",
      "65/65 [==============================] - 0s 3ms/step - loss: 4180480512.0000\n",
      "Epoch 48/250\n",
      "65/65 [==============================] - 0s 3ms/step - loss: 4182931456.0000\n",
      "Epoch 49/250\n",
      "65/65 [==============================] - 0s 3ms/step - loss: 4184897536.0000\n",
      "Epoch 50/250\n",
      "65/65 [==============================] - 0s 3ms/step - loss: 4181564416.0000\n",
      "Epoch 51/250\n",
      "65/65 [==============================] - 0s 3ms/step - loss: 4179824128.0000\n",
      "Epoch 52/250\n",
      "65/65 [==============================] - 0s 3ms/step - loss: 4179074304.0000\n",
      "Epoch 53/250\n",
      "65/65 [==============================] - 0s 3ms/step - loss: 4178833664.0000\n",
      "Epoch 54/250\n",
      "65/65 [==============================] - 0s 3ms/step - loss: 4183560448.0000\n",
      "Epoch 55/250\n",
      "65/65 [==============================] - 0s 3ms/step - loss: 4178487808.0000\n",
      "Epoch 56/250\n",
      "65/65 [==============================] - 0s 3ms/step - loss: 4175880960.0000\n",
      "Epoch 57/250\n",
      "65/65 [==============================] - 0s 3ms/step - loss: 4183862784.0000\n",
      "Epoch 58/250\n",
      "65/65 [==============================] - 0s 3ms/step - loss: 4174392320.0000\n",
      "Epoch 59/250\n",
      "65/65 [==============================] - 0s 3ms/step - loss: 4175579392.0000\n",
      "Epoch 60/250\n",
      "65/65 [==============================] - 0s 3ms/step - loss: 4178494720.0000\n",
      "Epoch 61/250\n",
      "65/65 [==============================] - 0s 3ms/step - loss: 4174732032.0000\n",
      "Epoch 62/250\n",
      "65/65 [==============================] - 0s 3ms/step - loss: 4176474880.0000\n",
      "Epoch 63/250\n",
      "65/65 [==============================] - 0s 3ms/step - loss: 4176980480.0000\n",
      "Epoch 64/250\n",
      "65/65 [==============================] - 0s 3ms/step - loss: 4176650496.0000\n",
      "Epoch 65/250\n",
      "65/65 [==============================] - 0s 3ms/step - loss: 4178900480.0000\n",
      "Epoch 66/250\n",
      "65/65 [==============================] - 0s 3ms/step - loss: 4182686208.0000\n",
      "Epoch 67/250\n",
      "65/65 [==============================] - 0s 3ms/step - loss: 4175951616.0000\n",
      "Epoch 68/250\n",
      "65/65 [==============================] - 0s 3ms/step - loss: 4170047488.0000\n",
      "Epoch 69/250\n",
      "65/65 [==============================] - 0s 3ms/step - loss: 4173457152.0000\n",
      "Epoch 70/250\n",
      "65/65 [==============================] - 0s 3ms/step - loss: 4170751744.0000\n",
      "Epoch 71/250\n",
      "65/65 [==============================] - 0s 3ms/step - loss: 4177546496.0000\n",
      "Epoch 72/250\n",
      "65/65 [==============================] - 0s 3ms/step - loss: 4172131584.0000\n",
      "Epoch 73/250\n",
      "65/65 [==============================] - 0s 3ms/step - loss: 4171292160.0000\n",
      "Epoch 74/250\n",
      "65/65 [==============================] - 0s 3ms/step - loss: 4179227904.0000\n",
      "Epoch 75/250\n",
      "65/65 [==============================] - 0s 3ms/step - loss: 4172607488.0000\n",
      "Epoch 76/250\n",
      "65/65 [==============================] - 0s 3ms/step - loss: 4171629568.0000\n",
      "Epoch 77/250\n",
      "65/65 [==============================] - 0s 3ms/step - loss: 4170986752.0000\n",
      "Epoch 78/250\n",
      "65/65 [==============================] - 0s 3ms/step - loss: 4171917056.0000\n",
      "Epoch 79/250\n",
      "65/65 [==============================] - 0s 3ms/step - loss: 4178071296.0000\n",
      "Epoch 80/250\n",
      "65/65 [==============================] - 0s 3ms/step - loss: 4172212480.0000\n",
      "Epoch 81/250\n",
      "65/65 [==============================] - 0s 3ms/step - loss: 4167207168.0000\n",
      "Epoch 82/250\n",
      "65/65 [==============================] - 0s 3ms/step - loss: 4174719488.0000\n",
      "Epoch 83/250\n",
      "65/65 [==============================] - 0s 3ms/step - loss: 4187017728.0000\n",
      "Epoch 84/250\n",
      "65/65 [==============================] - 0s 3ms/step - loss: 4161057024.0000\n",
      "Epoch 85/250\n",
      "65/65 [==============================] - 0s 3ms/step - loss: 4168034048.0000\n",
      "Epoch 86/250\n",
      "65/65 [==============================] - 0s 3ms/step - loss: 4167143936.0000\n",
      "Epoch 87/250\n",
      "65/65 [==============================] - 0s 3ms/step - loss: 4166293760.0000\n",
      "Epoch 88/250\n",
      "65/65 [==============================] - 0s 3ms/step - loss: 4167043072.0000\n",
      "Epoch 89/250\n",
      "65/65 [==============================] - 0s 3ms/step - loss: 4167551488.0000\n",
      "Epoch 90/250\n",
      "65/65 [==============================] - 0s 3ms/step - loss: 4165964032.0000\n",
      "Epoch 91/250\n",
      "65/65 [==============================] - 0s 3ms/step - loss: 4171328512.0000\n",
      "Epoch 92/250\n"
     ]
    },
    {
     "name": "stdout",
     "output_type": "stream",
     "text": [
      "65/65 [==============================] - 0s 3ms/step - loss: 4169880832.0000\n",
      "Epoch 93/250\n",
      "65/65 [==============================] - 0s 3ms/step - loss: 4163883264.0000\n",
      "Epoch 94/250\n",
      "65/65 [==============================] - 0s 2ms/step - loss: 4167859456.0000\n",
      "Epoch 95/250\n",
      "65/65 [==============================] - 0s 2ms/step - loss: 4163704320.0000\n",
      "Epoch 96/250\n",
      "65/65 [==============================] - 0s 2ms/step - loss: 4165837312.0000\n",
      "Epoch 97/250\n",
      "65/65 [==============================] - 0s 2ms/step - loss: 4164709376.0000\n",
      "Epoch 98/250\n",
      "65/65 [==============================] - 0s 3ms/step - loss: 4174056192.0000\n",
      "Epoch 99/250\n",
      "65/65 [==============================] - 0s 3ms/step - loss: 4169368576.0000\n",
      "Epoch 100/250\n",
      "65/65 [==============================] - 0s 2ms/step - loss: 4162929920.0000\n",
      "Epoch 101/250\n",
      "65/65 [==============================] - 0s 2ms/step - loss: 4163500800.0000\n",
      "Epoch 102/250\n",
      "65/65 [==============================] - 0s 2ms/step - loss: 4165154048.0000\n",
      "Epoch 103/250\n",
      "65/65 [==============================] - 0s 2ms/step - loss: 4166590976.0000\n",
      "Epoch 104/250\n",
      "65/65 [==============================] - 0s 3ms/step - loss: 4168065024.0000\n",
      "Epoch 105/250\n",
      "65/65 [==============================] - 0s 3ms/step - loss: 4168654080.0000\n",
      "Epoch 106/250\n",
      "65/65 [==============================] - 0s 2ms/step - loss: 4165074432.0000\n",
      "Epoch 107/250\n",
      "65/65 [==============================] - 0s 2ms/step - loss: 4166585600.0000\n",
      "Epoch 108/250\n",
      "65/65 [==============================] - 0s 2ms/step - loss: 4161343744.0000\n",
      "Epoch 109/250\n",
      "65/65 [==============================] - 0s 2ms/step - loss: 4166957312.0000\n",
      "Epoch 110/250\n",
      "65/65 [==============================] - 0s 3ms/step - loss: 4159169792.0000\n",
      "Epoch 111/250\n",
      "65/65 [==============================] - 0s 3ms/step - loss: 4164524288.0000\n",
      "Epoch 112/250\n",
      "65/65 [==============================] - 0s 2ms/step - loss: 4160624384.0000\n",
      "Epoch 113/250\n",
      "65/65 [==============================] - 0s 2ms/step - loss: 4157909504.0000\n",
      "Epoch 114/250\n",
      "65/65 [==============================] - 0s 2ms/step - loss: 4157627648.0000\n",
      "Epoch 115/250\n",
      "65/65 [==============================] - 0s 2ms/step - loss: 4165122304.0000\n",
      "Epoch 116/250\n",
      "65/65 [==============================] - 0s 3ms/step - loss: 4163396352.0000\n",
      "Epoch 117/250\n",
      "65/65 [==============================] - 0s 3ms/step - loss: 4160033536.0000\n",
      "Epoch 118/250\n",
      "65/65 [==============================] - 0s 2ms/step - loss: 4163729152.0000\n",
      "Epoch 119/250\n",
      "65/65 [==============================] - 0s 2ms/step - loss: 4157219840.0000\n",
      "Epoch 120/250\n",
      "65/65 [==============================] - 0s 2ms/step - loss: 4156446208.0000\n",
      "Epoch 121/250\n",
      "65/65 [==============================] - 0s 2ms/step - loss: 4155511808.0000\n",
      "Epoch 122/250\n",
      "65/65 [==============================] - 0s 3ms/step - loss: 4160343040.0000\n",
      "Epoch 123/250\n",
      "65/65 [==============================] - 0s 3ms/step - loss: 4162333952.0000\n",
      "Epoch 124/250\n",
      "65/65 [==============================] - 0s 2ms/step - loss: 4164588800.0000\n",
      "Epoch 125/250\n",
      "65/65 [==============================] - 0s 2ms/step - loss: 4155412736.0000\n",
      "Epoch 126/250\n",
      "65/65 [==============================] - 0s 3ms/step - loss: 4153931264.0000\n",
      "Epoch 127/250\n",
      "65/65 [==============================] - 0s 2ms/step - loss: 4157918720.0000\n",
      "Epoch 128/250\n",
      "65/65 [==============================] - 0s 3ms/step - loss: 4156597248.0000\n",
      "Epoch 129/250\n",
      "65/65 [==============================] - 0s 3ms/step - loss: 4154214144.0000\n",
      "Epoch 130/250\n",
      "65/65 [==============================] - 0s 2ms/step - loss: 4158534912.0000\n",
      "Epoch 131/250\n",
      "65/65 [==============================] - 0s 2ms/step - loss: 4156373760.0000\n",
      "Epoch 132/250\n",
      "65/65 [==============================] - 0s 2ms/step - loss: 4157332992.0000\n",
      "Epoch 133/250\n",
      "65/65 [==============================] - 0s 2ms/step - loss: 4160319744.0000\n",
      "Epoch 134/250\n",
      "65/65 [==============================] - 0s 3ms/step - loss: 4157600512.0000\n",
      "Epoch 135/250\n",
      "65/65 [==============================] - 0s 3ms/step - loss: 4153774080.0000\n",
      "Epoch 136/250\n",
      "65/65 [==============================] - 0s 2ms/step - loss: 4152137728.0000\n",
      "Epoch 137/250\n",
      "65/65 [==============================] - 0s 2ms/step - loss: 4153297152.0000\n",
      "Epoch 138/250\n",
      "65/65 [==============================] - 0s 2ms/step - loss: 4157698816.0000\n",
      "Epoch 139/250\n",
      "65/65 [==============================] - 0s 2ms/step - loss: 4150305280.0000\n",
      "Epoch 140/250\n",
      "65/65 [==============================] - 0s 3ms/step - loss: 4154355968.0000\n",
      "Epoch 141/250\n",
      "65/65 [==============================] - 0s 3ms/step - loss: 4152865536.0000\n",
      "Epoch 142/250\n",
      "65/65 [==============================] - 0s 2ms/step - loss: 4151452416.0000\n",
      "Epoch 143/250\n",
      "65/65 [==============================] - 0s 2ms/step - loss: 4151343360.0000\n",
      "Epoch 144/250\n",
      "65/65 [==============================] - 0s 2ms/step - loss: 4144300032.0000\n",
      "Epoch 145/250\n",
      "65/65 [==============================] - 0s 2ms/step - loss: 4150917120.0000\n",
      "Epoch 146/250\n",
      "65/65 [==============================] - 0s 3ms/step - loss: 4145418496.0000\n",
      "Epoch 147/250\n",
      "65/65 [==============================] - 0s 3ms/step - loss: 4146306304.0000\n",
      "Epoch 148/250\n",
      "65/65 [==============================] - 0s 2ms/step - loss: 4147980544.0000\n",
      "Epoch 149/250\n",
      "65/65 [==============================] - 0s 2ms/step - loss: 4143376384.0000\n",
      "Epoch 150/250\n",
      "65/65 [==============================] - 0s 2ms/step - loss: 4146239488.0000\n",
      "Epoch 151/250\n",
      "65/65 [==============================] - 0s 3ms/step - loss: 4162832384.0000\n",
      "Epoch 152/250\n",
      "65/65 [==============================] - 0s 3ms/step - loss: 4136245504.0000\n",
      "Epoch 153/250\n",
      "65/65 [==============================] - 0s 3ms/step - loss: 4140852992.0000\n",
      "Epoch 154/250\n",
      "65/65 [==============================] - 0s 2ms/step - loss: 4134458624.0000\n",
      "Epoch 155/250\n",
      "65/65 [==============================] - 0s 3ms/step - loss: 4140212992.0000\n",
      "Epoch 156/250\n",
      "65/65 [==============================] - 0s 2ms/step - loss: 4127900160.0000\n",
      "Epoch 157/250\n",
      "65/65 [==============================] - 0s 3ms/step - loss: 4135306752.0000\n",
      "Epoch 158/250\n",
      "65/65 [==============================] - 0s 3ms/step - loss: 4129716992.0000\n",
      "Epoch 159/250\n",
      "65/65 [==============================] - 0s 3ms/step - loss: 4135388416.0000\n",
      "Epoch 160/250\n",
      "65/65 [==============================] - 0s 2ms/step - loss: 4134128384.0000\n",
      "Epoch 161/250\n",
      "65/65 [==============================] - 0s 2ms/step - loss: 4121807616.0000\n",
      "Epoch 162/250\n",
      "65/65 [==============================] - 0s 2ms/step - loss: 4125043712.0000\n",
      "Epoch 163/250\n",
      "65/65 [==============================] - 0s 3ms/step - loss: 4121844224.0000\n",
      "Epoch 164/250\n",
      "65/65 [==============================] - 0s 3ms/step - loss: 4114690048.0000\n",
      "Epoch 165/250\n",
      "65/65 [==============================] - 0s 3ms/step - loss: 4112273152.0000\n",
      "Epoch 166/250\n",
      "65/65 [==============================] - 0s 2ms/step - loss: 4106829568.0000\n",
      "Epoch 167/250\n",
      "65/65 [==============================] - 0s 2ms/step - loss: 4106011136.0000\n",
      "Epoch 168/250\n",
      "65/65 [==============================] - 0s 2ms/step - loss: 4113024512.0000\n",
      "Epoch 169/250\n",
      "65/65 [==============================] - 0s 3ms/step - loss: 4105662720.0000\n",
      "Epoch 170/250\n",
      "65/65 [==============================] - 0s 3ms/step - loss: 4100792064.0000\n",
      "Epoch 171/250\n",
      "65/65 [==============================] - 0s 2ms/step - loss: 4094567168.0000\n",
      "Epoch 172/250\n",
      "65/65 [==============================] - 0s 2ms/step - loss: 4093580288.0000\n",
      "Epoch 173/250\n",
      "65/65 [==============================] - 0s 2ms/step - loss: 4081976064.0000\n",
      "Epoch 174/250\n",
      "65/65 [==============================] - 0s 2ms/step - loss: 4077808128.0000\n",
      "Epoch 175/250\n",
      "65/65 [==============================] - 0s 3ms/step - loss: 4072865280.0000\n",
      "Epoch 176/250\n",
      "65/65 [==============================] - 0s 3ms/step - loss: 4070996992.0000\n",
      "Epoch 177/250\n",
      "65/65 [==============================] - 0s 2ms/step - loss: 4064749312.0000\n",
      "Epoch 178/250\n",
      "65/65 [==============================] - 0s 2ms/step - loss: 4055381760.0000\n",
      "Epoch 179/250\n",
      "65/65 [==============================] - 0s 2ms/step - loss: 4060274432.0000\n",
      "Epoch 180/250\n",
      "65/65 [==============================] - 0s 2ms/step - loss: 4045778688.0000\n",
      "Epoch 181/250\n",
      "65/65 [==============================] - 0s 3ms/step - loss: 4036162048.0000\n",
      "Epoch 182/250\n"
     ]
    },
    {
     "name": "stdout",
     "output_type": "stream",
     "text": [
      "65/65 [==============================] - 0s 3ms/step - loss: 4032486144.0000\n",
      "Epoch 183/250\n",
      "65/65 [==============================] - 0s 2ms/step - loss: 4014518272.0000\n",
      "Epoch 184/250\n",
      "65/65 [==============================] - 0s 2ms/step - loss: 4006532864.0000\n",
      "Epoch 185/250\n",
      "65/65 [==============================] - 0s 2ms/step - loss: 3997039104.0000\n",
      "Epoch 186/250\n",
      "65/65 [==============================] - 0s 2ms/step - loss: 3982823168.0000\n",
      "Epoch 187/250\n",
      "65/65 [==============================] - 0s 3ms/step - loss: 3972067840.0000\n",
      "Epoch 188/250\n",
      "65/65 [==============================] - 0s 3ms/step - loss: 3965091584.0000\n",
      "Epoch 189/250\n",
      "65/65 [==============================] - 0s 2ms/step - loss: 3939926272.0000\n",
      "Epoch 190/250\n",
      "65/65 [==============================] - 0s 2ms/step - loss: 3922576896.0000\n",
      "Epoch 191/250\n",
      "65/65 [==============================] - 0s 2ms/step - loss: 3916225280.0000\n",
      "Epoch 192/250\n",
      "65/65 [==============================] - 0s 2ms/step - loss: 3899069440.0000\n",
      "Epoch 193/250\n",
      "65/65 [==============================] - 0s 3ms/step - loss: 3868197120.0000\n",
      "Epoch 194/250\n",
      "65/65 [==============================] - 0s 3ms/step - loss: 3851200256.0000\n",
      "Epoch 195/250\n",
      "65/65 [==============================] - 0s 2ms/step - loss: 3827713536.0000\n",
      "Epoch 196/250\n",
      "65/65 [==============================] - 0s 2ms/step - loss: 3798646784.0000\n",
      "Epoch 197/250\n",
      "65/65 [==============================] - 0s 2ms/step - loss: 3775429376.0000\n",
      "Epoch 198/250\n",
      "65/65 [==============================] - 0s 2ms/step - loss: 3743051008.0000\n",
      "Epoch 199/250\n",
      "65/65 [==============================] - 0s 3ms/step - loss: 3712977920.0000\n",
      "Epoch 200/250\n",
      "65/65 [==============================] - 0s 3ms/step - loss: 3689258496.0000\n",
      "Epoch 201/250\n",
      "65/65 [==============================] - 0s 2ms/step - loss: 3639565824.0000\n",
      "Epoch 202/250\n",
      "65/65 [==============================] - 0s 2ms/step - loss: 3597168384.0000\n",
      "Epoch 203/250\n",
      "65/65 [==============================] - 0s 3ms/step - loss: 3562971904.0000\n",
      "Epoch 204/250\n",
      "65/65 [==============================] - 0s 2ms/step - loss: 3513349632.0000\n",
      "Epoch 205/250\n",
      "65/65 [==============================] - 0s 3ms/step - loss: 3459663872.0000\n",
      "Epoch 206/250\n",
      "65/65 [==============================] - 0s 3ms/step - loss: 3404863744.0000\n",
      "Epoch 207/250\n",
      "65/65 [==============================] - 0s 3ms/step - loss: 3343511552.0000\n",
      "Epoch 208/250\n",
      "65/65 [==============================] - 0s 2ms/step - loss: 3283206144.0000\n",
      "Epoch 209/250\n",
      "65/65 [==============================] - 0s 3ms/step - loss: 3202000384.0000\n",
      "Epoch 210/250\n",
      "65/65 [==============================] - 0s 3ms/step - loss: 3116688128.0000\n",
      "Epoch 211/250\n",
      "65/65 [==============================] - 0s 3ms/step - loss: 3031951360.0000\n",
      "Epoch 212/250\n",
      "65/65 [==============================] - 0s 3ms/step - loss: 2931486464.0000\n",
      "Epoch 213/250\n",
      "65/65 [==============================] - 0s 2ms/step - loss: 2826636544.0000\n",
      "Epoch 214/250\n",
      "65/65 [==============================] - 0s 2ms/step - loss: 2704552192.0000\n",
      "Epoch 215/250\n",
      "65/65 [==============================] - 0s 2ms/step - loss: 2577484544.0000\n",
      "Epoch 216/250\n",
      "65/65 [==============================] - 0s 2ms/step - loss: 2433974016.0000\n",
      "Epoch 217/250\n",
      "65/65 [==============================] - 0s 3ms/step - loss: 2289139456.0000\n",
      "Epoch 218/250\n",
      "65/65 [==============================] - 0s 3ms/step - loss: 2117640064.0000\n",
      "Epoch 219/250\n",
      "65/65 [==============================] - 0s 2ms/step - loss: 1945000832.0000\n",
      "Epoch 220/250\n",
      "65/65 [==============================] - 0s 2ms/step - loss: 1759731968.0000\n",
      "Epoch 221/250\n",
      "65/65 [==============================] - 0s 2ms/step - loss: 1577976448.0000\n",
      "Epoch 222/250\n",
      "65/65 [==============================] - 0s 2ms/step - loss: 1392233088.0000\n",
      "Epoch 223/250\n",
      "65/65 [==============================] - 0s 3ms/step - loss: 1210865792.0000\n",
      "Epoch 224/250\n",
      "65/65 [==============================] - 0s 3ms/step - loss: 1059440768.0000\n",
      "Epoch 225/250\n",
      "65/65 [==============================] - 0s 2ms/step - loss: 935714432.0000\n",
      "Epoch 226/250\n",
      "65/65 [==============================] - 0s 2ms/step - loss: 817626944.0000\n",
      "Epoch 227/250\n",
      "65/65 [==============================] - 0s 2ms/step - loss: 744659264.0000\n",
      "Epoch 228/250\n",
      "65/65 [==============================] - 0s 2ms/step - loss: 691970240.0000\n",
      "Epoch 229/250\n",
      "65/65 [==============================] - 0s 3ms/step - loss: 659091264.0000\n",
      "Epoch 230/250\n",
      "65/65 [==============================] - 0s 3ms/step - loss: 635910336.0000\n",
      "Epoch 231/250\n",
      "65/65 [==============================] - 0s 3ms/step - loss: 628797184.0000\n",
      "Epoch 232/250\n",
      "65/65 [==============================] - 0s 3ms/step - loss: 614819776.0000\n",
      "Epoch 233/250\n",
      "65/65 [==============================] - 0s 2ms/step - loss: 607552768.0000\n",
      "Epoch 234/250\n",
      "65/65 [==============================] - 0s 3ms/step - loss: 601272704.0000\n",
      "Epoch 235/250\n",
      "65/65 [==============================] - 0s 3ms/step - loss: 593614464.0000\n",
      "Epoch 236/250\n",
      "65/65 [==============================] - 0s 3ms/step - loss: 592004288.0000\n",
      "Epoch 237/250\n",
      "65/65 [==============================] - 0s 3ms/step - loss: 586384000.0000\n",
      "Epoch 238/250\n",
      "65/65 [==============================] - 0s 3ms/step - loss: 587262784.0000\n",
      "Epoch 239/250\n",
      "65/65 [==============================] - 0s 2ms/step - loss: 581361920.0000\n",
      "Epoch 240/250\n",
      "65/65 [==============================] - 0s 3ms/step - loss: 583969792.0000\n",
      "Epoch 241/250\n",
      "65/65 [==============================] - 0s 3ms/step - loss: 577341632.0000\n",
      "Epoch 242/250\n",
      "65/65 [==============================] - 0s 3ms/step - loss: 585139072.0000\n",
      "Epoch 243/250\n",
      "65/65 [==============================] - 0s 3ms/step - loss: 572806144.0000\n",
      "Epoch 244/250\n",
      "65/65 [==============================] - 0s 2ms/step - loss: 575855680.0000\n",
      "Epoch 245/250\n",
      "65/65 [==============================] - 0s 3ms/step - loss: 569097344.0000\n",
      "Epoch 246/250\n",
      "65/65 [==============================] - 0s 3ms/step - loss: 566830592.0000\n",
      "Epoch 247/250\n",
      "65/65 [==============================] - 0s 3ms/step - loss: 569326400.0000\n",
      "Epoch 248/250\n",
      "65/65 [==============================] - 0s 3ms/step - loss: 566859264.0000\n",
      "Epoch 249/250\n",
      "65/65 [==============================] - 0s 2ms/step - loss: 564899648.0000\n",
      "Epoch 250/250\n",
      "65/65 [==============================] - 0s 2ms/step - loss: 565571072.0000\n"
     ]
    }
   ],
   "source": [
    "#fit the model\n",
    "history = model.fit(X_train,y_train,epochs =250)"
   ]
  },
  {
   "cell_type": "code",
   "execution_count": 105,
   "id": "55e7f78e",
   "metadata": {},
   "outputs": [
    {
     "name": "stdout",
     "output_type": "stream",
     "text": [
      "65/65 [==============================] - 0s 2ms/step - loss: 550620032.0000\n"
     ]
    },
    {
     "data": {
      "text/plain": [
       "550620032.0"
      ]
     },
     "execution_count": 105,
     "metadata": {},
     "output_type": "execute_result"
    }
   ],
   "source": [
    "model.evaluate(X_train,y_train)"
   ]
  },
  {
   "cell_type": "code",
   "execution_count": 106,
   "id": "ce9be33a",
   "metadata": {},
   "outputs": [
    {
     "name": "stdout",
     "output_type": "stream",
     "text": [
      "17/17 [==============================] - 0s 3ms/step - loss: 348067072.0000\n"
     ]
    },
    {
     "data": {
      "text/plain": [
       "348067072.0"
      ]
     },
     "execution_count": 106,
     "metadata": {},
     "output_type": "execute_result"
    }
   ],
   "source": [
    "model.evaluate(X_test,y_test)"
   ]
  },
  {
   "cell_type": "code",
   "execution_count": null,
   "id": "ff9c96ec",
   "metadata": {},
   "outputs": [],
   "source": []
  }
 ],
 "metadata": {
  "kernelspec": {
   "display_name": "Python 3",
   "language": "python",
   "name": "python3"
  },
  "language_info": {
   "codemirror_mode": {
    "name": "ipython",
    "version": 3
   },
   "file_extension": ".py",
   "mimetype": "text/x-python",
   "name": "python",
   "nbconvert_exporter": "python",
   "pygments_lexer": "ipython3",
   "version": "3.8.8"
  }
 },
 "nbformat": 4,
 "nbformat_minor": 5
}
